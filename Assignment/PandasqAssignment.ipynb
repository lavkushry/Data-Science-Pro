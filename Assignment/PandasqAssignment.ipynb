{
 "cells": [
  {
   "cell_type": "code",
   "execution_count": 1,
   "id": "82e8f834-4a30-4165-a34b-f54e3eff7766",
   "metadata": {},
   "outputs": [],
   "source": [
    "import pandas as pd"
   ]
  },
  {
   "cell_type": "code",
   "execution_count": 3,
   "id": "2154bd94-c300-404d-9719-50520a5abcb6",
   "metadata": {},
   "outputs": [],
   "source": [
    "# Q1. Create a Pandas Series that contains the following data: 4, 8, 15, 16, 23, and 42. Then, print the series.\n",
    "series=pd.Series([4, 8, 15, 16, 23,42])"
   ]
  },
  {
   "cell_type": "code",
   "execution_count": 4,
   "id": "53a944c8-5d7d-4a5a-830b-c1fdab8b6e7a",
   "metadata": {},
   "outputs": [
    {
     "data": {
      "text/plain": [
       "0     4\n",
       "1     8\n",
       "2    15\n",
       "3    16\n",
       "4    23\n",
       "5    42\n",
       "6    43\n",
       "7    21\n",
       "8    11\n",
       "9     1\n",
       "dtype: int64"
      ]
     },
     "execution_count": 4,
     "metadata": {},
     "output_type": "execute_result"
    }
   ],
   "source": [
    "# Q2. Create a variable of list type containing 10 elements in it, and apply pandas.Series function on the variable print it.\n",
    "list=[4, 8, 15, 16, 23,42,43,21,11,1]\n",
    "pd.Series(list)"
   ]
  },
  {
   "cell_type": "code",
   "execution_count": 9,
   "id": "cc28f5c1-8406-4008-ae3c-c967d2e78f05",
   "metadata": {},
   "outputs": [
    {
     "data": {
      "text/html": [
       "<div>\n",
       "<style scoped>\n",
       "    .dataframe tbody tr th:only-of-type {\n",
       "        vertical-align: middle;\n",
       "    }\n",
       "\n",
       "    .dataframe tbody tr th {\n",
       "        vertical-align: top;\n",
       "    }\n",
       "\n",
       "    .dataframe thead th {\n",
       "        text-align: right;\n",
       "    }\n",
       "</style>\n",
       "<table border=\"1\" class=\"dataframe\">\n",
       "  <thead>\n",
       "    <tr style=\"text-align: right;\">\n",
       "      <th></th>\n",
       "      <th>Name</th>\n",
       "      <th>Age</th>\n",
       "      <th>Gender</th>\n",
       "    </tr>\n",
       "  </thead>\n",
       "  <tbody>\n",
       "    <tr>\n",
       "      <th>0</th>\n",
       "      <td>Alice</td>\n",
       "      <td>25</td>\n",
       "      <td>Female</td>\n",
       "    </tr>\n",
       "    <tr>\n",
       "      <th>1</th>\n",
       "      <td>Bob</td>\n",
       "      <td>30</td>\n",
       "      <td>Male</td>\n",
       "    </tr>\n",
       "    <tr>\n",
       "      <th>2</th>\n",
       "      <td>Claire</td>\n",
       "      <td>27</td>\n",
       "      <td>Female</td>\n",
       "    </tr>\n",
       "  </tbody>\n",
       "</table>\n",
       "</div>"
      ],
      "text/plain": [
       "     Name  Age  Gender\n",
       "0   Alice   25  Female\n",
       "1     Bob   30    Male\n",
       "2  Claire   27  Female"
      ]
     },
     "execution_count": 9,
     "metadata": {},
     "output_type": "execute_result"
    }
   ],
   "source": [
    "# Q3. Create a Pandas DataFrame that contains the following data:\n",
    "\n",
    "data = {'Name': ['Alice', 'Bob', 'Claire'], \n",
    "      'Age': [25, 30, 27], \n",
    "     'Gender': ['Female', 'Male', 'Female']}\n",
    "df = pd.DataFrame(data)\n",
    "df"
   ]
  },
  {
   "cell_type": "code",
   "execution_count": 10,
   "id": "a6309929-97f4-4d40-9d44-acf2b56ff426",
   "metadata": {},
   "outputs": [
    {
     "name": "stdout",
     "output_type": "stream",
     "text": [
      "Series:\n",
      " a    1\n",
      "b    2\n",
      "c    3\n",
      "d    4\n",
      "dtype: int64\n",
      "\n",
      "DataFrame:\n",
      "    A  B\n",
      "a  1  4\n",
      "b  2  5\n",
      "c  3  6\n"
     ]
    }
   ],
   "source": [
    "# Q4. What is 'DataFrame' in pandas and how is it different from pandas.series? Explain with an example.\n",
    "# Ans : A DataFrame in pandas is a two-dimensional labeled data structure with columns potentially of different types. It is similar to a spreadsheet or SQL table, where each column can have a different data type. A DataFrame can be thought of as a collection of Series objects, where each Series represents a column in the DataFrame.\n",
    "# On the other hand, a Series in pandas is a one-dimensional labeled array capable of holding any data type. It is similar to a single column in a spreadsheet or SQL table. A Series can be thought of as a single column of data with an associated index.\n",
    "# Here's an example to illustrate the difference between a DataFrame and a Series:\n",
    "\n",
    "# Create a pandas Series\n",
    "s = pd.Series([1, 2, 3, 4], index=['a', 'b', 'c', 'd'])\n",
    "print(\"Series:\\n\", s)\n",
    "\n",
    "# Create a pandas DataFrame\n",
    "df = pd.DataFrame({'A': [1, 2, 3], 'B': [4, 5, 6]}, index=['a', 'b', 'c'])\n",
    "print(\"\\nDataFrame:\\n\", df)\n",
    "\n",
    "# In this example, we first create a Series s with four integer values and an associated index of letters 'a' through 'd'. We then create a DataFrame df with two columns 'A' and 'B', each containing three integer values, and an associated index of letters 'a' through 'c'.\n",
    "\n",
    "# As you can see, a Series is a one-dimensional array with an associated index, while a DataFrame is a two-dimensional array with multiple columns and an associated index. A DataFrame can be thought of as a collection of Series objects, where each Series represents a column in the DataFrame.\n",
    "\n",
    "# In summary, a Series in pandas is a one-dimensional labeled array, while a DataFrame is a two-dimensional labeled data structure with columns potentially of different types. A DataFrame can be thought of as a collection of Series objects, where each Series represents a column in the DataFrame.\n",
    "\n",
    "# Best practices:\n",
    "\n",
    "# Use a Series when you have a single column of data with an associated index.\n",
    "# Use a DataFrame when you have multiple columns of data with an associated index.\n",
    "# Use the appropriate data structure for your data to make it easier to manipulate and analyze.\n",
    "# Use descriptive column names and index labels to make your data easier to understand and interpret."
   ]
  },
  {
   "cell_type": "markdown",
   "id": "72e67142-86de-443d-a564-8593bc452bae",
   "metadata": {},
   "source": [
    "# Q5. What are some common functions you can use to manipulate data in a Pandas DataFrame? Can you give an example of when you might use one of these functions?\n",
    "Ans\n",
    "Sure, here are some common functions to manipulate a Pandas DataFrame:\n",
    "\n",
    "head(): This function returns the first n rows for the object based on position. It is useful to get a quick look at the data.\n",
    "Example: data_1.head()\n",
    "\n",
    "tail(): This function returns the last n rows for the object based on position. It is useful to check the end of the data.\n",
    "Example: data_1.tail()\n",
    "\n",
    "info(): This function shows the data types of each column and the number of non-null values. It is useful to get an overview of the data.\n",
    "Example: data_1.info()\n",
    "\n",
    "describe(): This function gives statistical information about the numerical columns in the DataFrame. It returns the count, mean, standard deviation, minimum, 25th percentile, median, 75th percentile, and maximum.\n",
    "Example: data_1.describe()\n",
    "\n",
    "value_counts(): This function returns the frequency of each unique value in the Series. It is useful to get an idea of the distribution of categorical data.\n",
    "Example: data_1['State'].value_counts()\n",
    "\n",
    "drop_duplicates(): This function returns a DataFrame with duplicate rows removed. It is useful to remove redundant data.\n",
    "Example: data_1.drop_duplicates(inplace=True)\n",
    "\n",
    "groupby(): This function is used to group a DataFrame by one or more columns and perform some mathematical operation on it. It is useful to summarize data.\n",
    "Example: data_1.groupby(by='State').Salary.mean()\n",
    "\n",
    "merge(): This function is used to merge two DataFrames on a common column (field). It is useful to combine data from different sources.\n",
    "Example: data_1.merge(data_2, on='Name', how='left')\n",
    "\n",
    "memory_usage(): This function returns the memory usage of each column in bytes. It is useful to optimize memory usage.\n",
    "Example: data_1.memory_usage(deep=True)\n",
    "\n",
    "astype(): This function is used to convert the data type of a column in the DataFrame. It is useful to fix data type issues.\n",
    "Example: data_1['Gender'] = data_1.Gender.astype('category')\n",
    "\n",
    "loc[]: This function is used to access a group of rows and columns by label(s) or a boolean array. It is useful to slice the DataFrame.\n",
    "Example: data_1.loc[0:4, ['Name', 'Age', 'State']]\n",
    "\n",
    "sort_values(): This function is used to sort a DataFrame by values in ascending or descending order. It is useful to arrange data in a specific order.\n",
    "Example: data_1.sort_values(by='Name', inplace=True)\n",
    "\n",
    "These functions are just a few examples of what you can do with a Pandas DataFrame. There are many more functions available to manipulate and analyze data in Pandas"
   ]
  },
  {
   "cell_type": "code",
   "execution_count": 11,
   "id": "717cd820-84a7-48a0-bb3d-1f0262086eaf",
   "metadata": {},
   "outputs": [
    {
     "name": "stdout",
     "output_type": "stream",
     "text": [
      "    A  B\n",
      "0  10  4\n",
      "1   2  5\n",
      "2   3  6\n"
     ]
    }
   ],
   "source": [
    "# Q6. Which of the following is mutable in nature Series, DataFrame, Panel?\n",
    "# Ans : In Python's pandas library, Series, DataFrame, and Panel are all data structures used for data manipulation and analysis. Among these, only DataFrame and Panel are mutable in nature, while Series is immutable by default.\n",
    "\n",
    "# A Series is a one-dimensional labeled array capable of holding any data type. It is immutable by default, which means that once created, its values cannot be changed. However, it can be made mutable by setting the copy parameter to False when creating a new Series from an existing one.\n",
    "\n",
    "# A DataFrame is a two-dimensional labeled data structure with columns potentially of different types. It is mutable, which means that its values can be changed after creation.\n",
    "\n",
    "# A Panel is a three-dimensional labeled data structure, which is an extension of the DataFrame. It is also mutable, but it is deprecated in pandas version 0.23.0 and later, and it is recommended to use MultiIndex DataFrames instead.\n",
    "\n",
    "# Here's an example to illustrate the mutability of DataFrame:\n",
    "\n",
    "import pandas as pd\n",
    "\n",
    "# Create a DataFrame\n",
    "df = pd.DataFrame({'A': [1, 2, 3], 'B': [4, 5, 6]})\n",
    "\n",
    "# Modify a value in the DataFrame\n",
    "df.loc[0, 'A'] = 10\n",
    "\n",
    "# Print the modified DataFrame\n",
    "print(df)"
   ]
  },
  {
   "cell_type": "code",
   "execution_count": 12,
   "id": "a7fb3191-fe58-4a06-9b93-cec3d7ccfc9e",
   "metadata": {},
   "outputs": [
    {
     "name": "stdout",
     "output_type": "stream",
     "text": [
      "Create pandas Series:\n",
      "          0      1     2\n",
      "0    Spark  22000  1000\n",
      "1  PySpark  25000  2300\n",
      "2   Hadoop  23000  1000\n"
     ]
    }
   ],
   "source": [
    "# Q7. Create a DataFrame using multiple Series. Explain with an example.\n",
    "# Ans: \n",
    "import pandas as pd\n",
    "\n",
    "# Create pandas Series\n",
    "courses = pd.Series([\"Spark\",\"PySpark\",\"Hadoop\"])\n",
    "fees = pd.Series([22000,25000,23000])\n",
    "discount  = pd.Series([1000,2300,1000])\n",
    "\n",
    "# Combine two series.\n",
    "df=pd.concat([courses,fees],axis=1)\n",
    "\n",
    "# It also supports to combine multiple series.\n",
    "df=pd.concat([courses,fees,discount],axis=1)\n",
    "print(\"Create pandas Series:\\n\",df)"
   ]
  },
  {
   "cell_type": "code",
   "execution_count": null,
   "id": "00776613-4834-4391-84a6-8a7c041e5f05",
   "metadata": {},
   "outputs": [],
   "source": []
  }
 ],
 "metadata": {
  "kernelspec": {
   "display_name": "Python 3 (ipykernel)",
   "language": "python",
   "name": "python3"
  },
  "language_info": {
   "codemirror_mode": {
    "name": "ipython",
    "version": 3
   },
   "file_extension": ".py",
   "mimetype": "text/x-python",
   "name": "python",
   "nbconvert_exporter": "python",
   "pygments_lexer": "ipython3",
   "version": "3.12.2"
  }
 },
 "nbformat": 4,
 "nbformat_minor": 5
}
