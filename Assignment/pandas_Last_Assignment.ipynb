{
 "cells": [
  {
   "cell_type": "code",
   "execution_count": 1,
   "id": "1a51ee34-7062-4427-9774-fa0f8a66de3b",
   "metadata": {},
   "outputs": [],
   "source": [
    "import pandas as pd\n",
    "course_name = ['Data Science', 'Machine Learning', 'Big Data', 'Data Engineer']\n",
    "duration = [2,3,6,4]\n",
    "df = pd.DataFrame(data = {'course_name' : course_name, 'duration' : duration})"
   ]
  },
  {
   "cell_type": "code",
   "execution_count": 2,
   "id": "95bb4cfc-a741-490a-83f5-2ff6fa9f6cf1",
   "metadata": {},
   "outputs": [
    {
     "data": {
      "text/html": [
       "<div>\n",
       "<style scoped>\n",
       "    .dataframe tbody tr th:only-of-type {\n",
       "        vertical-align: middle;\n",
       "    }\n",
       "\n",
       "    .dataframe tbody tr th {\n",
       "        vertical-align: top;\n",
       "    }\n",
       "\n",
       "    .dataframe thead th {\n",
       "        text-align: right;\n",
       "    }\n",
       "</style>\n",
       "<table border=\"1\" class=\"dataframe\">\n",
       "  <thead>\n",
       "    <tr style=\"text-align: right;\">\n",
       "      <th></th>\n",
       "      <th>course_name</th>\n",
       "      <th>duration</th>\n",
       "    </tr>\n",
       "  </thead>\n",
       "  <tbody>\n",
       "    <tr>\n",
       "      <th>0</th>\n",
       "      <td>Data Science</td>\n",
       "      <td>2</td>\n",
       "    </tr>\n",
       "    <tr>\n",
       "      <th>1</th>\n",
       "      <td>Machine Learning</td>\n",
       "      <td>3</td>\n",
       "    </tr>\n",
       "    <tr>\n",
       "      <th>2</th>\n",
       "      <td>Big Data</td>\n",
       "      <td>6</td>\n",
       "    </tr>\n",
       "    <tr>\n",
       "      <th>3</th>\n",
       "      <td>Data Engineer</td>\n",
       "      <td>4</td>\n",
       "    </tr>\n",
       "  </tbody>\n",
       "</table>\n",
       "</div>"
      ],
      "text/plain": [
       "        course_name  duration\n",
       "0      Data Science         2\n",
       "1  Machine Learning         3\n",
       "2          Big Data         6\n",
       "3     Data Engineer         4"
      ]
     },
     "execution_count": 2,
     "metadata": {},
     "output_type": "execute_result"
    }
   ],
   "source": [
    "df"
   ]
  },
  {
   "cell_type": "code",
   "execution_count": 3,
   "id": "f676c600-c511-407d-be3f-632a738d924a",
   "metadata": {},
   "outputs": [
    {
     "data": {
      "text/plain": [
       "course_name    Machine Learning\n",
       "duration                      3\n",
       "Name: 1, dtype: object"
      ]
     },
     "execution_count": 3,
     "metadata": {},
     "output_type": "execute_result"
    }
   ],
   "source": [
    "# Q1. Write a code to print the data present in the second row of the dataframe, df.\n",
    "df.iloc[1]"
   ]
  },
  {
   "cell_type": "markdown",
   "id": "616f19ce-1602-4179-9f4b-c5110ca5dc62",
   "metadata": {},
   "source": [
    "# Q2. What is the difference between the functions loc and iloc in pandas.DataFrame?\n",
    "\n",
    "The loc and iloc functions in pandas DataFrame are used for indexing and selecting data. The main differences between them are:\n",
    "\n",
    "1. loc: It is a label-based data selection method which means that we have to pass the name of the row or column which we want to select. This method includes the last element of the range. Also, it can accept the boolean data, it will return a DataFrame of the same size if the boolean data has the same size as the original DataFrame.\n",
    "\n",
    " # usage\n",
    "df.loc[row_label, column_label]\n",
    "\n",
    "2. iloc: It is an integer index-based method. So here, we have to specify rows and columns by their integer index. It doesn't include the last element of the range.\n",
    "   # usage\n",
    "df.iloc[row_index, column_index]\n"
   ]
  },
  {
   "cell_type": "code",
   "execution_count": 4,
   "id": "1d50e7e0-bb1b-48fd-b1f6-2313699b69c0",
   "metadata": {},
   "outputs": [
    {
     "data": {
      "text/plain": [
       "column_1    0.991186\n",
       "column_2    0.769734\n",
       "column_3    0.263632\n",
       "column_4    0.412469\n",
       "column_5    0.173546\n",
       "column_6    0.215660\n",
       "Name: 2, dtype: float64"
      ]
     },
     "execution_count": 4,
     "metadata": {},
     "output_type": "execute_result"
    }
   ],
   "source": [
    "# Q3. Reindex the given dataframe using a variable, reindex = [3,0,1,2] and store it in the variable, new_df\n",
    "# then find the output for both new_df.loc[2] and new_df.iloc[2].\n",
    "import pandas as pd\n",
    "import numpy as np\n",
    "columns = ['column_1', 'column_2', 'column_3', 'column_4', 'column_5', 'column_6']\n",
    "indices = [1,2,3,4,5,6]\n",
    "#Creating a dataframe:\n",
    "df1 = pd.DataFrame(np.random.rand(6,6), columns = columns, index = indices)\n",
    "\n",
    "new_df=df1.reindex([3,0,1,2])\n",
    "new_df.loc[2]\n",
    "# new_df.loc[2] is label-based and retrieves the row with the index label 2 from the reindexed DataFrame."
   ]
  },
  {
   "cell_type": "code",
   "execution_count": 5,
   "id": "9678fde6-446a-42c7-aca4-3f3c452c2cb8",
   "metadata": {},
   "outputs": [
    {
     "data": {
      "text/plain": [
       "column_1    0.192518\n",
       "column_2    0.991657\n",
       "column_3    0.623517\n",
       "column_4    0.646907\n",
       "column_5    0.862177\n",
       "column_6    0.825339\n",
       "Name: 1, dtype: float64"
      ]
     },
     "execution_count": 5,
     "metadata": {},
     "output_type": "execute_result"
    }
   ],
   "source": [
    "new_df.iloc[2]\n",
    "# new_df.iloc[2] is position-based and retrieves the row at the 2nd position (third row, since indexing starts at 0) from the reindexed DataFrame.\n",
    "# As you can see, new_df.loc[2] returns the row with the index label 2 (Big Data), while new_df.iloc[2] returns the third row (position 2) of the reindexed DataFrame (Machine Learning)."
   ]
  },
  {
   "cell_type": "code",
   "execution_count": 6,
   "id": "412117b1-3d9a-4888-afbd-206939fc2c5a",
   "metadata": {},
   "outputs": [
    {
     "data": {
      "text/plain": [
       "column_1    0.484193\n",
       "column_2    0.680466\n",
       "column_3    0.580936\n",
       "column_4    0.602225\n",
       "column_5    0.502748\n",
       "column_6    0.402719\n",
       "dtype: float64"
      ]
     },
     "execution_count": 6,
     "metadata": {},
     "output_type": "execute_result"
    }
   ],
   "source": [
    "# Q4. Write a code to find the following statistical measurements for the above dataframe df1:\n",
    "# (i) mean of each and every column present in the dataframe.\n",
    "df1.mean()"
   ]
  },
  {
   "cell_type": "code",
   "execution_count": 7,
   "id": "e2410f82-00a1-4dc8-9f91-558a0a0f8850",
   "metadata": {},
   "outputs": [
    {
     "data": {
      "text/plain": [
       "0.19249675403598177"
      ]
     },
     "execution_count": 7,
     "metadata": {},
     "output_type": "execute_result"
    }
   ],
   "source": [
    "# standard deviation of column, ‘column_2’\n",
    "df1['column_2'].std()"
   ]
  },
  {
   "cell_type": "code",
   "execution_count": 8,
   "id": "4e94c892-42fc-4c1c-8884-7b60415b980e",
   "metadata": {},
   "outputs": [],
   "source": [
    "# Q5. Replace the data present in the second row of column, ‘column_2’ by a string variable then find the\n",
    "# mean of column, column_2.\n",
    "df1['column_2']=\"Lavkush\"\n",
    "# df1['column_2'].mean()\n",
    "# Calculate Mean: We try to calculate the mean of column_2, which raises a TypeError because the column contains a non-numeric value.\n",
    "# Handle Error: We catch the TypeError and convert the column to numeric, using errors='coerce' to turn non-numeric values into NaNs. Then, we calculate the mean of the numeric values only."
   ]
  },
  {
   "cell_type": "raw",
   "id": "ec49b5dc-8291-4017-a8f1-dad04ef594c9",
   "metadata": {},
   "source": [
    "Q6. What do you understand about the windows function in pandas and list the types of windows\n",
    "functions?\n",
    "Ans :In pandas, window functions are a family of functions used to perform operations on a specified number of rows (the \"window\") in a DataFrame or Series. They are used for feature engineering, smoothing, and other operations that require knowledge of \"neighboring\" rows.\n",
    "\n",
    "There are three types of window functions in pandas:\n",
    "\n",
    "1. Rolling Window Functions: These functions operate on a fixed-size window of values and slide that window across the data, performing calculations for each window. The rolling() function is used to create a rolling window.\n",
    "   # usage\n",
    "df.rolling(window=3).mean()\n",
    "2. Expanding Window Functions: These functions start with a small window at the beginning of the DataFrame and expand it by one row at a time until it encompasses the entire DataFrame. The expanding() function is used to create an expanding window.\n",
    "# usage\n",
    "df.expanding(min_periods=1).sum()\n",
    "3. Exponential Weighted Window Functions: These functions assign weights to the values in the window, with more recent values getting higher weights. The ewm() function is used to create an exponential weighted window.\n",
    "# usage\n",
    "df.ewm(span=3).mean()\n",
    "Each of these window types has several methods that can be applied to them, such as sum(), mean(), median(), min(), max(), std(), var(), and others."
   ]
  },
  {
   "cell_type": "code",
   "execution_count": 9,
   "id": "0c424059-0172-40a3-b5a5-658d3803fdb7",
   "metadata": {},
   "outputs": [
    {
     "data": {
      "text/plain": [
       "'May 2024'"
      ]
     },
     "execution_count": 9,
     "metadata": {},
     "output_type": "execute_result"
    }
   ],
   "source": [
    "# Q7. Write a code to print only the current month and year at the time of answering this question.\n",
    "# [Hint: Use pandas.datetime function]\n",
    "now=pd.to_datetime('today')\n",
    "now.strftime('%B %Y')"
   ]
  },
  {
   "cell_type": "code",
   "execution_count": 10,
   "id": "34fa91b6-2fd8-4892-b63f-120dc88c41b5",
   "metadata": {},
   "outputs": [
    {
     "data": {
      "text/plain": [
       "Timedelta('3652 days 00:00:00')"
      ]
     },
     "execution_count": 10,
     "metadata": {},
     "output_type": "execute_result"
    }
   ],
   "source": [
    "# Q8. Write a Python program that takes in two dates as input (in the format YYYY-MM-DD) and\n",
    "# calculates the difference between them in days, hours, and minutes using Pandas time delta. The\n",
    "# program should prompt the user to enter the dates and display the result.\n",
    "\n",
    "dt1=pd.to_datetime('2022-06-20')\n",
    "dt2=pd.to_datetime('2012-06-20')\n",
    "dt1-dt2"
   ]
  },
  {
   "cell_type": "code",
   "execution_count": 11,
   "id": "43905dd6-6795-40d1-8781-944da3ab35f7",
   "metadata": {},
   "outputs": [],
   "source": [
    "# Q9. Write a Python program that reads a CSV file containing categorical data and converts a specified\n",
    "# column to a categorical data type. The program should prompt the user to enter the file path, column\n",
    "# name, and category order, and then display the sorted data.\n",
    "\n",
    "df11=pd.read_csv('Taxonomy.csv')"
   ]
  },
  {
   "cell_type": "code",
   "execution_count": 12,
   "id": "b4b0a535-8f51-4f1e-8b6f-475edc1302a4",
   "metadata": {},
   "outputs": [
    {
     "data": {
      "text/plain": [
       "['taxonomy_id', 'name', 'parent_id', 'parent_name']\n",
       "Categories (4, object): ['name', 'parent_id', 'parent_name', 'taxonomy_id']"
      ]
     },
     "execution_count": 12,
     "metadata": {},
     "output_type": "execute_result"
    }
   ],
   "source": [
    "pd.Categorical(df11)"
   ]
  },
  {
   "cell_type": "code",
   "execution_count": 13,
   "id": "ab3f975b-8bd3-4bd7-a8ec-e757843f99be",
   "metadata": {},
   "outputs": [],
   "source": [
    "category_order=['name', 'parent_id', 'parent_name', 'taxonomy_id']\n",
    "df11[\"new_col\"] = pd.Categorical(df11['parent_id'], categories=category_order, ordered=True)\n"
   ]
  },
  {
   "cell_type": "code",
   "execution_count": 14,
   "id": "bf7d8198-f30a-421d-856d-afd663d2bc3a",
   "metadata": {},
   "outputs": [],
   "source": [
    "# Q10. Write a Python program that reads a CSV file containing sales data for different products and\n",
    "# visualizes the data using a stacked bar chart to show the sales of each product category over time. The\n",
    "# program should prompt the user to enter the file path and display the chart."
   ]
  },
  {
   "cell_type": "code",
   "execution_count": 15,
   "id": "fb13e329-97cd-4e7e-a943-ccbf46828014",
   "metadata": {},
   "outputs": [
    {
     "data": {
      "image/png": "[encoded data removed]",
      "text/plain": [
       "<Figure size 640x480 with 1 Axes>"
      ]
     },
     "metadata": {},
     "output_type": "display_data"
    }
   ],
   "source": [
    "import matplotlib.pyplot as plt\n",
    "\n",
    "# Read the CSV file\n",
    "df = pd.read_csv('100sales.csv')\n",
    "\n",
    "# Assume the CSV file has 'Date', 'Category' and 'Sales' columns\n",
    "# Convert 'Date' column to datetime\n",
    "df['Ship Date'] = pd.to_datetime(df['Ship Date'])\n",
    "\n",
    "# Group by 'Date' and 'Category' and sum 'Sales'\n",
    "grouped = df.groupby(['Ship Date', 'Item Type'])['Total Cost'].sum().unstack()\n",
    "\n",
    "# Plot a stacked bar chart\n",
    "grouped.plot(kind='bar', stacked=True)\n",
    "\n",
    "# Show the plot\n",
    "plt.show()"
   ]
  },
  {
   "cell_type": "code",
   "execution_count": 16,
   "id": "25ce48cd-6dff-421d-a1b1-abc27fb8e21e",
   "metadata": {},
   "outputs": [],
   "source": [
    "# Q11. You are given a CSV file containing student data that includes the student ID and their test score. Write\n",
    "# a Python program that reads the CSV file, calculates the mean, median, and mode of the test scores, and\n",
    "# displays the results in a table.\n",
    "# The program should do the followingM\n",
    "# I Prompt the user to enter the file path of the CSV file containing the student dataR\n",
    "# I Read the CSV file into a Pandas DataFrameR\n",
    "# I Calculate the mean, median, and mode of the test scores using Pandas toolsR\n",
    "# I Display the mean, median, and mode in a table.\n",
    "# Assume the CSV file contains the following columnsM\n",
    "# I Student ID: The ID of the studentR\n",
    "# I Test Score: The score of the student's test.\n",
    "# Example usage of the program:\n",
    "# Enter the file path of the CSV file containing the student data: student_data.csv\n",
    "# +-----------+--------+\n",
    "# | Statistic | Value |\n",
    "# +-----------+--------+\n",
    "# | Mean | 79.6 |\n",
    "# | Median | 82 |\n",
    "# | Mode | 85, 90 |\n",
    "# +-----------+--------+\n",
    "# Assume that the CSV file student_data.csv contains the following data:\n",
    "# Student ID,Test Score\n",
    "# 1,85\n",
    "# 2,90\n",
    "# 3,80\n",
    "# 4,75\n",
    "# 5,85\n",
    "# 6,82\n",
    "# 7,78\n",
    "# 8,85\n",
    "# 9,90\n",
    "# 10,85\n",
    "# The program should calculate the mean, median, and mode of the test scores and display the results\n",
    "# in a table"
   ]
  },
  {
   "cell_type": "code",
   "execution_count": 17,
   "id": "a79f568f-515a-4c4d-b48f-940eda6303ff",
   "metadata": {},
   "outputs": [],
   "source": [
    "df = pd.read_csv('student-dataset.csv')"
   ]
  },
  {
   "cell_type": "code",
   "execution_count": 18,
   "id": "d98700b9-28d7-459d-82b0-bc2681b7b4b4",
   "metadata": {},
   "outputs": [],
   "source": [
    "mean = df[['english.grade','math.grade','sciences.grade']].mean()\n",
    "median = df[['english.grade','math.grade','sciences.grade']].median()\n",
    "mode = df[['english.grade','math.grade','sciences.grade']].mode()\n",
    "data = {\n",
    "    'Statistic': ['Mean', 'Median', 'Mode'],\n",
    "    'Value': [mean, median, mode]\n",
    "}"
   ]
  },
  {
   "cell_type": "code",
   "execution_count": null,
   "id": "1c26fea5-a3a8-4a9f-9e15-b9ce5fcda89c",
   "metadata": {},
   "outputs": [],
   "source": []
  }
 ],
 "metadata": {
  "kernelspec": {
   "display_name": "Python 3 (ipykernel)",
   "language": "python",
   "name": "python3"
  },
  "language_info": {
   "codemirror_mode": {
    "name": "ipython",
    "version": 3
   },
   "file_extension": ".py",
   "mimetype": "text/x-python",
   "name": "python",
   "nbconvert_exporter": "python",
   "pygments_lexer": "ipython3",
   "version": "3.12.2"
  }
 },
 "nbformat": 4,
 "nbformat_minor": 5
}
