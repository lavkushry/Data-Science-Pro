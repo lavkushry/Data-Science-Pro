{
 "cells": [
  {
   "cell_type": "markdown",
   "id": "3921c2a3-e666-4aa5-a3cd-94dbcbc9f8df",
   "metadata": {},
   "source": [
    "Q1. What is a database? Differentiate between SQL and NoSQL databases.\n",
    "Ans:\n",
    "A database is an organized collection of data stored and accessed electronically. Databases are designed to offer an efficient way to store, retrieve and manipulate data. They can handle anything from a small amount of data to large volumes of complex data.\n",
    "\n",
    "Differentiate between SQL and NoSQL databases:\n",
    "SQL Databases (also known as relational databases) are table-based databases that use structured query language (SQL) for defining and manipulating the data. They are based on a relational model where data is stored in rows and columns of different tables to minimize data redundancy. SQL databases are ideal for complex queries and are ACID compliant (Atomicity, Consistency, Isolation, Durability). Examples include MySQL, Oracle, PostgreSQL, and SQL Server.\n",
    "\n",
    "NoSQL Databases (also known as non-relational databases) are document-based, key-value pairs, graph databases, or wide-column stores. They do not have standard schema definitions that the data must adhere to. Scalability and flexibility for handling large data sets and high-speed queries are major advantages of NoSQL databases. They are not typically ACID compliant and are ideal for storing unstructured data. Examples include MongoDB, Cassandra, Redis, and CouchDB.\n",
    "\n"
   ]
  },
  {
   "cell_type": "markdown",
   "id": "a916503a-f4cd-45e7-8cdf-26747ff01eec",
   "metadata": {},
   "source": [
    "Q2. What is DDL? Explain why CREATE, DROP, ALTER, and TRUNCATE are used with an example.\n",
    "Ans:\n",
    "DDL stands for Data Definition Language. It is a subset of SQL used to define and manage all the objects in an SQL database. DDL includes commands like CREATE, DROP, ALTER, and TRUNCATE.\n",
    "\n",
    "1. CREATE: This command is used to create a new table or a new database.\n",
    "CREATE TABLE Employees (\n",
    "    ID INT PRIMARY KEY,\n",
    "    Name VARCHAR(50),\n",
    "    Age INT\n",
    ");\n",
    "\n",
    "2. DROP: This command is used to delete an entire table or database.\n",
    "DROP TABLE Employees;\n",
    "\n",
    "3. ALTER: This command is used to modify an existing database object, like a table. It can be used to add, delete/drop or modify columns in a table.\n",
    "\n",
    "ALTER TABLE Employees\n",
    "ADD Email VARCHAR(50);\n",
    "\n",
    "4. TRUNCATE: This command is used to delete all the records from a table, but not the table itself. It's similar to the DELETE command with no WHERE clause, but is much faster because it doesn't generate individual row delete statements.\n",
    "\n",
    "TRUNCATE TABLE Employees;"
   ]
  },
  {
   "cell_type": "markdown",
   "id": "3a4ddb48-1335-4596-873e-8e2cc029f04f",
   "metadata": {},
   "source": [
    "Q3. What is DML? Explain INSERT, UPDATE, and DELETE with an example.\n",
    "\n",
    "Ans:\n",
    "\n",
    "DML stands for Data Manipulation Language. It is a subset of SQL used for adding (inserting), deleting, and modifying (updating) data in a database. DML includes commands like INSERT, UPDATE, and DELETE.\n",
    "\n",
    "1. INSERT: This command is used to insert data into a table.\n",
    "\n",
    "INSERT INTO Employees (ID, Name, Age)\n",
    "VALUES (1, 'John Doe', 30);\n",
    "\n",
    "2. UPDATE: This command is used to modify the existing records in a table.\n",
    "UPDATE Employees\n",
    "SET Age = 31\n",
    "WHERE ID = 1;\n",
    "\n",
    "3. DELETE: This command is used to delete existing records from a table.\n",
    "DELETE FROM Employees\n",
    "WHERE ID = 1;"
   ]
  },
  {
   "cell_type": "markdown",
   "id": "90bfa230-10b3-46f4-b67e-5503f6205a77",
   "metadata": {},
   "source": [
    "Q4. What is DQL? Explain SELECT with an example.\n",
    "\n",
    "Ans:\n",
    "DQL stands for Data Query Language. It is a subset of SQL used for querying data from a database to fetch, order, and group data. The primary DQL command is SELECT.\n",
    "\n",
    "SELECT: This command is used to select data from a database. The data returned is stored in a result table, called the result-set.\n",
    "\n",
    "Here's an example of a SELECT statement:\n",
    "SELECT Name, Age\n",
    "FROM Employees\n",
    "WHERE Age > 30;\n",
    "\n",
    "In this example, the SELECT statement is used to fetch the Name and Age of all employees who are older than 30 from the Employees table.\n",
    "\n",
    "You can also use the * wildcard character in a SELECT statement to select all columns:\n",
    "\n",
    "SELECT *\n",
    "FROM Employees;\n",
    "\n",
    "This statement selects all data from the Employees table.\n"
   ]
  },
  {
   "cell_type": "markdown",
   "id": "e9dc0012-350c-45ec-935a-79111a3956b0",
   "metadata": {},
   "source": [
    "Q5. Explain Primary Key and Foreign Key.\n",
    "Primary Key: A primary key is a column (or a combination of columns) in a table that uniquely identifies each row in that table. The primary key has the following characteristics:\n",
    "\n",
    "It must contain a unique value for each row of data.\n",
    "It cannot contain null values.\n",
    "A table can have only one primary key.\n",
    "Here's an example of a primary key in a table:\n",
    "\n",
    "CREATE TABLE Employees (\n",
    "    ID INT PRIMARY KEY,\n",
    "    Name VARCHAR(50),\n",
    "    Age INT\n",
    ");\n",
    "\n",
    "In this example, ID is the primary key for the Employees table.\n",
    "\n",
    "Foreign Key: A foreign key is a column (or a combination of columns) in a table that is used to establish a link between the data in two tables. The foreign key in one table points to the primary key in another table. The table containing the foreign key is called the child table, and the table containing the primary key is called the referenced or parent table.\n",
    "\n",
    "Here's an example of a foreign key in a table:\n",
    "\n",
    "CREATE TABLE Orders (\n",
    "    OrderID INT PRIMARY KEY,\n",
    "    OrderNumber INT,\n",
    "    EmployeeID INT,\n",
    "    FOREIGN KEY (EmployeeID) REFERENCES Employees(ID)\n",
    ");\n",
    "In this example, EmployeeID in the Orders table is a foreign key that references the ID (primary key) in the Employees table. This establishes a relationship between the two tables, where each order is associated with an employee.\n",
    "\n"
   ]
  },
  {
   "cell_type": "markdown",
   "id": "31426954-c9e9-45b6-a6eb-aaf7c15ad436",
   "metadata": {},
   "source": [
    "Q6. Write a python code to connect MySQL to python. Explain the cursor and execute) method.\n",
    "Ans:\n",
    "\n",
    "To connect MySQL to Python, you can use a library like mysql-connector-python. Here's an example of how to establish a connection:\n",
    "\n",
    "import mysql.connector\n",
    "\n",
    "cnx = mysql.connector.connect(\n",
    "    host='localhost',\n",
    "    user='your_username',\n",
    "    password='your_password',\n",
    "    database='your_database'\n",
    ")\n",
    "\n",
    "cnx.close()\n",
    "\n",
    "\n",
    "GitHub Copilot\n",
    "To connect MySQL to Python, you can use a library like mysql-connector-python. Here's an example of how to establish a connection:\n",
    "\n",
    "In this example, you first import the mysql.connector module, then call the connect function with your database credentials to establish a connection. The connect function returns a connection object (cnx in this case). Don't forget to close the connection when you're done with it using the close method.\n",
    "\n",
    "1. Cursor: A cursor in MySQL is a database object that allows you to retrieve rows from a result set one at a time. You can create a cursor from the connection object like this:\n",
    "\n",
    "cursor = cnx.cursor()\n",
    "\n",
    "2. Execute method: The execute method is used to run SQL queries in Python. You call this method on a cursor object and pass the SQL query as a string. Here's an example:\n",
    "\n",
    "cursor.execute(\"SELECT * FROM Employees\")\n",
    "\n",
    "This will execute the SQL query and the cursor will point to the result set. You can then fetch the results using methods like fetchone, fetchmany, or fetchall."
   ]
  },
  {
   "cell_type": "markdown",
   "id": "52a383ce-c219-405d-aac9-457c50ce62d0",
   "metadata": {},
   "source": [
    "Q7. Give the order of execution of SQL clauses in an SQL query.\n",
    "Ans:\n"
   ]
  }
 ],
 "metadata": {
  "kernelspec": {
   "display_name": "Python 3 (ipykernel)",
   "language": "python",
   "name": "python3"
  },
  "language_info": {
   "codemirror_mode": {
    "name": "ipython",
    "version": 3
   },
   "file_extension": ".py",
   "mimetype": "text/x-python",
   "name": "python",
   "nbconvert_exporter": "python",
   "pygments_lexer": "ipython3",
   "version": "3.10.8"
  }
 },
 "nbformat": 4,
 "nbformat_minor": 5
}
