{
 "cells": [
  {
   "cell_type": "markdown",
   "id": "aa735845-bebd-4af1-9842-f1397e7e9a56",
   "metadata": {},
   "source": []
  },
  {
   "cell_type": "markdown",
   "id": "70d9d058-4cbc-4d18-9d35-2522d87bf231",
   "metadata": {},
   "source": []
  },
  {
   "cell_type": "code",
   "execution_count": 1,
   "id": "dfbc68f3-3793-416c-b185-ec38af02a007",
   "metadata": {},
   "outputs": [],
   "source": [
    "import pandas as pd"
   ]
  },
  {
   "cell_type": "code",
   "execution_count": 2,
   "id": "a8be72ad-b3ed-40d9-b942-89546f9be218",
   "metadata": {},
   "outputs": [
    {
     "ename": "FileNotFoundError",
     "evalue": "[Errno 2] No such file or directory: 'data.csv'",
     "output_type": "error",
     "traceback": [
      "\u001b[0;31m---------------------------------------------------------------------------\u001b[0m",
      "\u001b[0;31mFileNotFoundError\u001b[0m                         Traceback (most recent call last)",
      "Cell \u001b[0;32mIn[2], line 7\u001b[0m\n\u001b[1;32m      1\u001b[0m \u001b[38;5;66;03m# Q1. List any five functions of the pandas library with execution.\u001b[39;00m\n\u001b[1;32m      2\u001b[0m \n\u001b[1;32m      3\u001b[0m \u001b[38;5;66;03m# here are five functions of the pandas library with their execution in Python:\u001b[39;00m\n\u001b[1;32m      4\u001b[0m \n\u001b[1;32m      5\u001b[0m \u001b[38;5;66;03m# 1. read_csv() function: This function is used to retrieve data from CSV files in the form of a dataframe.\u001b[39;00m\n\u001b[1;32m      6\u001b[0m \u001b[38;5;66;03m# Example:\u001b[39;00m\n\u001b[0;32m----> 7\u001b[0m df \u001b[38;5;241m=\u001b[39m \u001b[43mpd\u001b[49m\u001b[38;5;241;43m.\u001b[39;49m\u001b[43mread_csv\u001b[49m\u001b[43m(\u001b[49m\u001b[38;5;124;43m'\u001b[39;49m\u001b[38;5;124;43mdata.csv\u001b[39;49m\u001b[38;5;124;43m'\u001b[39;49m\u001b[43m)\u001b[49m\n\u001b[1;32m      8\u001b[0m \u001b[38;5;28mprint\u001b[39m(df\u001b[38;5;241m.\u001b[39mhead())\n\u001b[1;32m     10\u001b[0m \u001b[38;5;66;03m# 2.head() function: This function is used to return the top n (5 by default) values of a data frame or series.\u001b[39;00m\n",
      "File \u001b[0;32m/opt/homebrew/Caskroom/miniconda/base/lib/python3.12/site-packages/pandas/io/parsers/readers.py:1026\u001b[0m, in \u001b[0;36mread_csv\u001b[0;34m(filepath_or_buffer, sep, delimiter, header, names, index_col, usecols, dtype, engine, converters, true_values, false_values, skipinitialspace, skiprows, skipfooter, nrows, na_values, keep_default_na, na_filter, verbose, skip_blank_lines, parse_dates, infer_datetime_format, keep_date_col, date_parser, date_format, dayfirst, cache_dates, iterator, chunksize, compression, thousands, decimal, lineterminator, quotechar, quoting, doublequote, escapechar, comment, encoding, encoding_errors, dialect, on_bad_lines, delim_whitespace, low_memory, memory_map, float_precision, storage_options, dtype_backend)\u001b[0m\n\u001b[1;32m   1013\u001b[0m kwds_defaults \u001b[38;5;241m=\u001b[39m _refine_defaults_read(\n\u001b[1;32m   1014\u001b[0m     dialect,\n\u001b[1;32m   1015\u001b[0m     delimiter,\n\u001b[0;32m   (...)\u001b[0m\n\u001b[1;32m   1022\u001b[0m     dtype_backend\u001b[38;5;241m=\u001b[39mdtype_backend,\n\u001b[1;32m   1023\u001b[0m )\n\u001b[1;32m   1024\u001b[0m kwds\u001b[38;5;241m.\u001b[39mupdate(kwds_defaults)\n\u001b[0;32m-> 1026\u001b[0m \u001b[38;5;28;01mreturn\u001b[39;00m \u001b[43m_read\u001b[49m\u001b[43m(\u001b[49m\u001b[43mfilepath_or_buffer\u001b[49m\u001b[43m,\u001b[49m\u001b[43m \u001b[49m\u001b[43mkwds\u001b[49m\u001b[43m)\u001b[49m\n",
      "File \u001b[0;32m/opt/homebrew/Caskroom/miniconda/base/lib/python3.12/site-packages/pandas/io/parsers/readers.py:620\u001b[0m, in \u001b[0;36m_read\u001b[0;34m(filepath_or_buffer, kwds)\u001b[0m\n\u001b[1;32m    617\u001b[0m _validate_names(kwds\u001b[38;5;241m.\u001b[39mget(\u001b[38;5;124m\"\u001b[39m\u001b[38;5;124mnames\u001b[39m\u001b[38;5;124m\"\u001b[39m, \u001b[38;5;28;01mNone\u001b[39;00m))\n\u001b[1;32m    619\u001b[0m \u001b[38;5;66;03m# Create the parser.\u001b[39;00m\n\u001b[0;32m--> 620\u001b[0m parser \u001b[38;5;241m=\u001b[39m \u001b[43mTextFileReader\u001b[49m\u001b[43m(\u001b[49m\u001b[43mfilepath_or_buffer\u001b[49m\u001b[43m,\u001b[49m\u001b[43m \u001b[49m\u001b[38;5;241;43m*\u001b[39;49m\u001b[38;5;241;43m*\u001b[39;49m\u001b[43mkwds\u001b[49m\u001b[43m)\u001b[49m\n\u001b[1;32m    622\u001b[0m \u001b[38;5;28;01mif\u001b[39;00m chunksize \u001b[38;5;129;01mor\u001b[39;00m iterator:\n\u001b[1;32m    623\u001b[0m     \u001b[38;5;28;01mreturn\u001b[39;00m parser\n",
      "File \u001b[0;32m/opt/homebrew/Caskroom/miniconda/base/lib/python3.12/site-packages/pandas/io/parsers/readers.py:1620\u001b[0m, in \u001b[0;36mTextFileReader.__init__\u001b[0;34m(self, f, engine, **kwds)\u001b[0m\n\u001b[1;32m   1617\u001b[0m     \u001b[38;5;28mself\u001b[39m\u001b[38;5;241m.\u001b[39moptions[\u001b[38;5;124m\"\u001b[39m\u001b[38;5;124mhas_index_names\u001b[39m\u001b[38;5;124m\"\u001b[39m] \u001b[38;5;241m=\u001b[39m kwds[\u001b[38;5;124m\"\u001b[39m\u001b[38;5;124mhas_index_names\u001b[39m\u001b[38;5;124m\"\u001b[39m]\n\u001b[1;32m   1619\u001b[0m \u001b[38;5;28mself\u001b[39m\u001b[38;5;241m.\u001b[39mhandles: IOHandles \u001b[38;5;241m|\u001b[39m \u001b[38;5;28;01mNone\u001b[39;00m \u001b[38;5;241m=\u001b[39m \u001b[38;5;28;01mNone\u001b[39;00m\n\u001b[0;32m-> 1620\u001b[0m \u001b[38;5;28mself\u001b[39m\u001b[38;5;241m.\u001b[39m_engine \u001b[38;5;241m=\u001b[39m \u001b[38;5;28;43mself\u001b[39;49m\u001b[38;5;241;43m.\u001b[39;49m\u001b[43m_make_engine\u001b[49m\u001b[43m(\u001b[49m\u001b[43mf\u001b[49m\u001b[43m,\u001b[49m\u001b[43m \u001b[49m\u001b[38;5;28;43mself\u001b[39;49m\u001b[38;5;241;43m.\u001b[39;49m\u001b[43mengine\u001b[49m\u001b[43m)\u001b[49m\n",
      "File \u001b[0;32m/opt/homebrew/Caskroom/miniconda/base/lib/python3.12/site-packages/pandas/io/parsers/readers.py:1880\u001b[0m, in \u001b[0;36mTextFileReader._make_engine\u001b[0;34m(self, f, engine)\u001b[0m\n\u001b[1;32m   1878\u001b[0m     \u001b[38;5;28;01mif\u001b[39;00m \u001b[38;5;124m\"\u001b[39m\u001b[38;5;124mb\u001b[39m\u001b[38;5;124m\"\u001b[39m \u001b[38;5;129;01mnot\u001b[39;00m \u001b[38;5;129;01min\u001b[39;00m mode:\n\u001b[1;32m   1879\u001b[0m         mode \u001b[38;5;241m+\u001b[39m\u001b[38;5;241m=\u001b[39m \u001b[38;5;124m\"\u001b[39m\u001b[38;5;124mb\u001b[39m\u001b[38;5;124m\"\u001b[39m\n\u001b[0;32m-> 1880\u001b[0m \u001b[38;5;28mself\u001b[39m\u001b[38;5;241m.\u001b[39mhandles \u001b[38;5;241m=\u001b[39m \u001b[43mget_handle\u001b[49m\u001b[43m(\u001b[49m\n\u001b[1;32m   1881\u001b[0m \u001b[43m    \u001b[49m\u001b[43mf\u001b[49m\u001b[43m,\u001b[49m\n\u001b[1;32m   1882\u001b[0m \u001b[43m    \u001b[49m\u001b[43mmode\u001b[49m\u001b[43m,\u001b[49m\n\u001b[1;32m   1883\u001b[0m \u001b[43m    \u001b[49m\u001b[43mencoding\u001b[49m\u001b[38;5;241;43m=\u001b[39;49m\u001b[38;5;28;43mself\u001b[39;49m\u001b[38;5;241;43m.\u001b[39;49m\u001b[43moptions\u001b[49m\u001b[38;5;241;43m.\u001b[39;49m\u001b[43mget\u001b[49m\u001b[43m(\u001b[49m\u001b[38;5;124;43m\"\u001b[39;49m\u001b[38;5;124;43mencoding\u001b[39;49m\u001b[38;5;124;43m\"\u001b[39;49m\u001b[43m,\u001b[49m\u001b[43m \u001b[49m\u001b[38;5;28;43;01mNone\u001b[39;49;00m\u001b[43m)\u001b[49m\u001b[43m,\u001b[49m\n\u001b[1;32m   1884\u001b[0m \u001b[43m    \u001b[49m\u001b[43mcompression\u001b[49m\u001b[38;5;241;43m=\u001b[39;49m\u001b[38;5;28;43mself\u001b[39;49m\u001b[38;5;241;43m.\u001b[39;49m\u001b[43moptions\u001b[49m\u001b[38;5;241;43m.\u001b[39;49m\u001b[43mget\u001b[49m\u001b[43m(\u001b[49m\u001b[38;5;124;43m\"\u001b[39;49m\u001b[38;5;124;43mcompression\u001b[39;49m\u001b[38;5;124;43m\"\u001b[39;49m\u001b[43m,\u001b[49m\u001b[43m \u001b[49m\u001b[38;5;28;43;01mNone\u001b[39;49;00m\u001b[43m)\u001b[49m\u001b[43m,\u001b[49m\n\u001b[1;32m   1885\u001b[0m \u001b[43m    \u001b[49m\u001b[43mmemory_map\u001b[49m\u001b[38;5;241;43m=\u001b[39;49m\u001b[38;5;28;43mself\u001b[39;49m\u001b[38;5;241;43m.\u001b[39;49m\u001b[43moptions\u001b[49m\u001b[38;5;241;43m.\u001b[39;49m\u001b[43mget\u001b[49m\u001b[43m(\u001b[49m\u001b[38;5;124;43m\"\u001b[39;49m\u001b[38;5;124;43mmemory_map\u001b[39;49m\u001b[38;5;124;43m\"\u001b[39;49m\u001b[43m,\u001b[49m\u001b[43m \u001b[49m\u001b[38;5;28;43;01mFalse\u001b[39;49;00m\u001b[43m)\u001b[49m\u001b[43m,\u001b[49m\n\u001b[1;32m   1886\u001b[0m \u001b[43m    \u001b[49m\u001b[43mis_text\u001b[49m\u001b[38;5;241;43m=\u001b[39;49m\u001b[43mis_text\u001b[49m\u001b[43m,\u001b[49m\n\u001b[1;32m   1887\u001b[0m \u001b[43m    \u001b[49m\u001b[43merrors\u001b[49m\u001b[38;5;241;43m=\u001b[39;49m\u001b[38;5;28;43mself\u001b[39;49m\u001b[38;5;241;43m.\u001b[39;49m\u001b[43moptions\u001b[49m\u001b[38;5;241;43m.\u001b[39;49m\u001b[43mget\u001b[49m\u001b[43m(\u001b[49m\u001b[38;5;124;43m\"\u001b[39;49m\u001b[38;5;124;43mencoding_errors\u001b[39;49m\u001b[38;5;124;43m\"\u001b[39;49m\u001b[43m,\u001b[49m\u001b[43m \u001b[49m\u001b[38;5;124;43m\"\u001b[39;49m\u001b[38;5;124;43mstrict\u001b[39;49m\u001b[38;5;124;43m\"\u001b[39;49m\u001b[43m)\u001b[49m\u001b[43m,\u001b[49m\n\u001b[1;32m   1888\u001b[0m \u001b[43m    \u001b[49m\u001b[43mstorage_options\u001b[49m\u001b[38;5;241;43m=\u001b[39;49m\u001b[38;5;28;43mself\u001b[39;49m\u001b[38;5;241;43m.\u001b[39;49m\u001b[43moptions\u001b[49m\u001b[38;5;241;43m.\u001b[39;49m\u001b[43mget\u001b[49m\u001b[43m(\u001b[49m\u001b[38;5;124;43m\"\u001b[39;49m\u001b[38;5;124;43mstorage_options\u001b[39;49m\u001b[38;5;124;43m\"\u001b[39;49m\u001b[43m,\u001b[49m\u001b[43m \u001b[49m\u001b[38;5;28;43;01mNone\u001b[39;49;00m\u001b[43m)\u001b[49m\u001b[43m,\u001b[49m\n\u001b[1;32m   1889\u001b[0m \u001b[43m\u001b[49m\u001b[43m)\u001b[49m\n\u001b[1;32m   1890\u001b[0m \u001b[38;5;28;01massert\u001b[39;00m \u001b[38;5;28mself\u001b[39m\u001b[38;5;241m.\u001b[39mhandles \u001b[38;5;129;01mis\u001b[39;00m \u001b[38;5;129;01mnot\u001b[39;00m \u001b[38;5;28;01mNone\u001b[39;00m\n\u001b[1;32m   1891\u001b[0m f \u001b[38;5;241m=\u001b[39m \u001b[38;5;28mself\u001b[39m\u001b[38;5;241m.\u001b[39mhandles\u001b[38;5;241m.\u001b[39mhandle\n",
      "File \u001b[0;32m/opt/homebrew/Caskroom/miniconda/base/lib/python3.12/site-packages/pandas/io/common.py:873\u001b[0m, in \u001b[0;36mget_handle\u001b[0;34m(path_or_buf, mode, encoding, compression, memory_map, is_text, errors, storage_options)\u001b[0m\n\u001b[1;32m    868\u001b[0m \u001b[38;5;28;01melif\u001b[39;00m \u001b[38;5;28misinstance\u001b[39m(handle, \u001b[38;5;28mstr\u001b[39m):\n\u001b[1;32m    869\u001b[0m     \u001b[38;5;66;03m# Check whether the filename is to be opened in binary mode.\u001b[39;00m\n\u001b[1;32m    870\u001b[0m     \u001b[38;5;66;03m# Binary mode does not support 'encoding' and 'newline'.\u001b[39;00m\n\u001b[1;32m    871\u001b[0m     \u001b[38;5;28;01mif\u001b[39;00m ioargs\u001b[38;5;241m.\u001b[39mencoding \u001b[38;5;129;01mand\u001b[39;00m \u001b[38;5;124m\"\u001b[39m\u001b[38;5;124mb\u001b[39m\u001b[38;5;124m\"\u001b[39m \u001b[38;5;129;01mnot\u001b[39;00m \u001b[38;5;129;01min\u001b[39;00m ioargs\u001b[38;5;241m.\u001b[39mmode:\n\u001b[1;32m    872\u001b[0m         \u001b[38;5;66;03m# Encoding\u001b[39;00m\n\u001b[0;32m--> 873\u001b[0m         handle \u001b[38;5;241m=\u001b[39m \u001b[38;5;28;43mopen\u001b[39;49m\u001b[43m(\u001b[49m\n\u001b[1;32m    874\u001b[0m \u001b[43m            \u001b[49m\u001b[43mhandle\u001b[49m\u001b[43m,\u001b[49m\n\u001b[1;32m    875\u001b[0m \u001b[43m            \u001b[49m\u001b[43mioargs\u001b[49m\u001b[38;5;241;43m.\u001b[39;49m\u001b[43mmode\u001b[49m\u001b[43m,\u001b[49m\n\u001b[1;32m    876\u001b[0m \u001b[43m            \u001b[49m\u001b[43mencoding\u001b[49m\u001b[38;5;241;43m=\u001b[39;49m\u001b[43mioargs\u001b[49m\u001b[38;5;241;43m.\u001b[39;49m\u001b[43mencoding\u001b[49m\u001b[43m,\u001b[49m\n\u001b[1;32m    877\u001b[0m \u001b[43m            \u001b[49m\u001b[43merrors\u001b[49m\u001b[38;5;241;43m=\u001b[39;49m\u001b[43merrors\u001b[49m\u001b[43m,\u001b[49m\n\u001b[1;32m    878\u001b[0m \u001b[43m            \u001b[49m\u001b[43mnewline\u001b[49m\u001b[38;5;241;43m=\u001b[39;49m\u001b[38;5;124;43m\"\u001b[39;49m\u001b[38;5;124;43m\"\u001b[39;49m\u001b[43m,\u001b[49m\n\u001b[1;32m    879\u001b[0m \u001b[43m        \u001b[49m\u001b[43m)\u001b[49m\n\u001b[1;32m    880\u001b[0m     \u001b[38;5;28;01melse\u001b[39;00m:\n\u001b[1;32m    881\u001b[0m         \u001b[38;5;66;03m# Binary mode\u001b[39;00m\n\u001b[1;32m    882\u001b[0m         handle \u001b[38;5;241m=\u001b[39m \u001b[38;5;28mopen\u001b[39m(handle, ioargs\u001b[38;5;241m.\u001b[39mmode)\n",
      "\u001b[0;31mFileNotFoundError\u001b[0m: [Errno 2] No such file or directory: 'data.csv'"
     ]
    }
   ],
   "source": [
    "# Q1. List any five functions of the pandas library with execution.\n",
    "\n",
    "# here are five functions of the pandas library with their execution in Python:\n",
    "\n",
    "# 1. read_csv() function: This function is used to retrieve data from CSV files in the form of a dataframe.\n",
    "# Example:\n",
    "df = pd.read_csv('data.csv')\n",
    "print(df.head())\n",
    "\n",
    "# 2.head() function: This function is used to return the top n (5 by default) values of a data frame or series.\n",
    "df = pd.DataFrame({'A': [1, 2, 3, 4, 5, 6], 'B': [6, 5, 4, 3, 2, 1]})\n",
    "print(df.head())\n",
    "\n",
    "# 3. describe() function: This function returns descriptive statistics about the data like mean, minimum, maximum, standard deviation, etc.\n",
    "\n",
    "df = pd.DataFrame({'A': [1, 2, 3, 4, 5, 6], 'B': [6, 5, 4, 3, 2, 1]})\n",
    "print(df.describe())\n",
    "\n",
    "# 4. groupby() function: This function is used to group data based on some criteria.\n",
    "df = pd.DataFrame({'A': [1, 1, 2, 2, 3, 3], 'B': [6, 7, 4, 5, 2, 1]})\n",
    "print(df.groupby('A').sum())\n",
    "\n",
    "# 5. pivot_table() function: This function is used to create a spreadsheet-style pivot table as a DataFrame.\n",
    "\n",
    "df = pd.DataFrame({'A': [1, 1, 2, 2, 3, 3], 'B': [6, 7, 4, 5, 2, 1], 'C': ['X', 'Y', 'X', 'Y', 'X', 'Y']})\n",
    "print(pd.pivot_table(df, values='B', index='A', columns='C'))"
   ]
  },
  {
   "cell_type": "code",
   "execution_count": 3,
   "id": "9c47fd07-2242-47a8-a696-91151cb2af2d",
   "metadata": {},
   "outputs": [
    {
     "name": "stdout",
     "output_type": "stream",
     "text": [
      "     A    B     C\n",
      "1  2.0  7.0  12.0\n",
      "3  4.0  9.0  14.0\n",
      "5  NaN  NaN   NaN\n"
     ]
    }
   ],
   "source": [
    "# Q2. Given a Pandas DataFrame df with columns 'A', 'B', and 'C', write a Python function to re-index the DataFrame with a new index that starts from l and increments by 2 for each row.\n",
    "\n",
    "# Create a sample DataFrame\n",
    "df = pd.DataFrame({'A': [1, 2, 3, 4, 5], 'B': [6, 7, 8, 9, 10], 'C': [11, 12, 13, 14, 15]})\n",
    "\n",
    "# Define a function to re-index the DataFrame\n",
    "def reindex_df(df):\n",
    "    return df.reindex(range(1, len(df) + 1, 2))\n",
    "\n",
    "# Call the function to re-index the DataFrame\n",
    "df_new = reindex_df(df)\n",
    "\n",
    "# Print the new DataFrame\n",
    "print(df_new)"
   ]
  },
  {
   "cell_type": "code",
   "execution_count": 4,
   "id": "69b58cfe-1210-48db-a5ee-84e6708f61f1",
   "metadata": {},
   "outputs": [
    {
     "name": "stdout",
     "output_type": "stream",
     "text": [
      "Sum of the first three values in the \"Values\" column: 60\n"
     ]
    }
   ],
   "source": [
    "# Q3. You have a Pandas DataFrame df with a column named 'Values. Write a Python function that iterates over the DataFrame and calculates the sum of the first three values in the 'Values' column. The function should print the sum to the console.\n",
    "# For example, if the 'Values' column of df contains the values [10, 20, 30, 40, 50], your function should calculate and print the sum of the first three values, which is 60.\n",
    "\n",
    "# Create a sample DataFrame\n",
    "df = pd.DataFrame({'Values': [10, 20, 30, 40, 50]})\n",
    "\n",
    "# Define a function to calculate the sum of the first three values in the 'Values' column\n",
    "def sum_first_three_values(df):\n",
    "    first_three_values = df.head(3)['Values']\n",
    "    total = first_three_values.sum()\n",
    "    print('Sum of the first three values in the \"Values\" column:', total)\n",
    "\n",
    "# Call the function to calculate the sum\n",
    "sum_first_three_values(df)"
   ]
  },
  {
   "cell_type": "code",
   "execution_count": 5,
   "id": "763d079f-7209-40b9-8988-06054bd8b954",
   "metadata": {},
   "outputs": [
    {
     "name": "stdout",
     "output_type": "stream",
     "text": [
      "                    Text  Word_Count\n",
      "0     This is a sentence           4\n",
      "1  Another sentence here           3\n",
      "2   Yet another sentence           3\n"
     ]
    }
   ],
   "source": [
    "# Q4. Given a Pandas DataFrame df with a column 'Text', write a Python function to create a new column\n",
    "# 'Word _Count' that contains the number of words in each row of the 'Text' column.\n",
    "\n",
    "# Create a sample DataFrame\n",
    "df = pd.DataFrame({'Text': ['This is a sentence', 'Another sentence here', 'Yet another sentence']})\n",
    "\n",
    "# Define a function to create a new column 'Word_Count'\n",
    "def add_word_count_column(df):\n",
    "    df['Word_Count'] = df['Text'].str.count(' ').apply(lambda x: x + 1)\n",
    "    return df\n",
    "\n",
    "# Call the function to add the new column\n",
    "df = add_word_count_column(df)\n",
    "\n",
    "# Print the DataFrame\n",
    "print(df)"
   ]
  },
  {
   "cell_type": "markdown",
   "id": "0007d1bf-32b0-4b12-8d7a-d08a9381490b",
   "metadata": {},
   "source": [
    "Q5. How are DataFrame.size) and DataFrame.shape) different?\n",
    "\n",
    "The DataFrame.size attribute returns the total number of elements in the DataFrame, calculated by multiplying the number of rows by the number of columns.\n",
    "\n",
    "On the other hand, the DataFrame.shape attribute returns a tuple representing the dimensions of the DataFrame, where the first element is the number of rows and the second element is the number of columns.\n",
    "\n",
    "in summary:\n",
    "\n",
    "DataFrame.size returns the total number of elements.\n",
    "DataFrame.shape returns a tuple of (number of rows, number of columns)."
   ]
  },
  {
   "cell_type": "markdown",
   "id": "20595abd-8628-4978-b650-7aa62455b005",
   "metadata": {},
   "source": [
    "Q6. Which function of pandas do we use to read an excel file?\n",
    "Ans: read_excel() function to read data from an Excel file. This function allows you to read the contents of an Excel file into a DataFrame. You can specify the sheet name, header row, columns to use, and many other parameters to customize how the data is read."
   ]
  },
  {
   "cell_type": "code",
   "execution_count": 6,
   "id": "0b13e0ef-6b22-41d2-8cef-be13a38104d5",
   "metadata": {},
   "outputs": [
    {
     "name": "stdout",
     "output_type": "stream",
     "text": [
      "The history saving thread hit an unexpected error (OperationalError('attempt to write a readonly database')).History will not be written to the database.\n"
     ]
    }
   ],
   "source": [
    "# Q7. You have a Pandas DataFrame df that contains a column named 'Email' that contains email addresses in the format 'username@domain.com. Write a Python function that creates a new column\n",
    "# 'Username' in df that contains only the username part of each email address.\n",
    "# The username is the part of the email address that appears before the '@' symbol. For example, if the email address is john.doe@example.com', the 'Username' column should contain 'john.doe. Your function should extract the username from each email address and store it in the new 'Username' column.\n",
    "\n",
    "# You can achieve this task by using the `apply()` function along with a lambda function to extract the username from each email address in the 'Email' column and then assign the result to a new column 'Username'. Here's how you can do it:\n",
    "\n",
    "def extract_username(email):\n",
    "    return email.split('@')[0]\n",
    "\n",
    "def add_username_column(df):\n",
    "    df['Username'] = df['Email'].apply(lambda x: extract_username(x))\n",
    "\n",
    "\n",
    "# In this code:\n",
    "# - `extract_username(email)` function takes an email address as input and returns the part before the '@' symbol.\n",
    "# - `add_username_column(df)` function adds a new column 'Username' to the DataFrame by applying the `extract_username()` function to each element of the 'Email' column using the `apply()` function with a lambda function.\n",
    "# - After defining these functions, you can call `add_username_column(df)` to add the 'Username' column to your DataFrame."
   ]
  },
  {
   "cell_type": "code",
   "execution_count": 8,
   "id": "91f4009b-0c23-4117-aa39-694b1c3ec601",
   "metadata": {},
   "outputs": [],
   "source": [
    "# 8. \n",
    "\n",
    "def select_rows(df):\n",
    "    selected_rows = df[(df['A'] > 5) & (df['B'] < 10)]\n",
    "    return selected_rows\n",
    "\n",
    "\n",
    "# In this code:\n",
    "# - The function `select_rows(df)` takes the DataFrame `df` as input.\n",
    "# - `df[(df['A'] > 5) & (df['B'] < 10)]` creates a boolean mask selecting rows where column 'A' is greater than 5 and column 'B' is less than 10.\n",
    "# - This boolean mask is used to index the DataFrame, selecting only the rows that satisfy the conditions.\n",
    "# - The selected rows are returned as a new DataFrame."
   ]
  },
  {
   "cell_type": "code",
   "execution_count": 9,
   "id": "b3c32de5-5015-451a-a69d-3ccc5ed6278f",
   "metadata": {},
   "outputs": [],
   "source": [
    "\n",
    "# Q9. Given a Pandas DataFrame df with a column 'Values', write a Python function to calculate the mean, median, and standard deviation of the values in the 'Values' column.\n",
    "\n",
    "# We can use the `mean()`, `median()`, and `std()` functions provided by pandas to calculate the mean, median, and standard deviation of the values in the 'Values' column of your DataFrame. Here's a Python function that does this:\n",
    "\n",
    "\n",
    "def calculate_stats(df):\n",
    "    # Calculate mean, median, and standard deviation\n",
    "    mean_value = df['Values'].mean()\n",
    "    median_value = df['Values'].median()\n",
    "    std_deviation = df['Values'].std()\n",
    "    \n",
    "    return mean_value, median_value, std_deviation\n"
   ]
  },
  {
   "cell_type": "code",
   "execution_count": 10,
   "id": "666599b3-b594-4992-a633-583b192c59a8",
   "metadata": {},
   "outputs": [],
   "source": [
    "\n",
    "# Q10. Given a Pandas DataFrame df with a column 'Sales' and a column 'Date', write a Python function to create a new column 'MovingAverage' that contains the moving average of the sales for the past 7 days for each row in the DataFrame. The moving average should be calculated using a window of size 7 and should include the current day.\n",
    "\n",
    "# You can use the `rolling()` function in pandas to calculate the rolling mean with a window size of 7 days. Here's how you can create a new column 'MovingAverage' containing the moving average of sales for the past 7 days:\n",
    "\n",
    "def calculate_moving_average(df):\n",
    "    # Convert 'Date' column to datetime if it's not already\n",
    "    df['Date'] = pd.to_datetime(df['Date'])\n",
    "    \n",
    "    # Sort DataFrame by date\n",
    "    df = df.sort_values(by='Date')\n",
    "    \n",
    "    # Calculate moving average using a window of size 7\n",
    "    df['MovingAverage'] = df['Sales'].rolling(window=7, min_periods=1).mean()\n",
    "    \n",
    "    return df\n",
    "\n",
    "# In this code:\n",
    "# - The function `calculate_moving_average(df)` takes the DataFrame `df` as input.\n",
    "# - `pd.to_datetime(df['Date'])` converts the 'Date' column to datetime format if it's not already.\n",
    "# - `df.sort_values(by='Date')` sorts the DataFrame by date to ensure the rolling window operates correctly.\n",
    "# - `df['Sales'].rolling(window=7, min_periods=1).mean()` calculates the rolling mean of sales for the past 7 days, including the current day.\n",
    "# - The moving average values are stored in the new column 'MovingAverage', which is added to the DataFrame.\n",
    "# - The modified DataFrame with the 'MovingAverage' column is returned from the function."
   ]
  },
  {
   "cell_type": "code",
   "execution_count": null,
   "id": "49ec1e68-27a6-4b4a-ac74-992ac7813811",
   "metadata": {},
   "outputs": [],
   "source": [
    "# 11. \n",
    "# You can achieve this by using the `dt.strftime()` function in pandas to format the dates in the 'Date' column to display the weekday name. Here's a Python function that adds a new column 'Weekday' containing the weekday names corresponding to each date in the 'Date' column:\n",
    "\n",
    "def add_weekday_column(df):\n",
    "    # Convert 'Date' column to datetime if it's not already\n",
    "    df['Date'] = pd.to_datetime(df['Date'])\n",
    "    \n",
    "    # Add a new column 'Weekday' containing the weekday names\n",
    "    df['Weekday'] = df['Date'].dt.strftime('%A')\n",
    "    \n",
    "    return df\n",
    "\n",
    "\n",
    "# In this code:\n",
    "# - The function `add_weekday_column(df)` takes the DataFrame `df` as input.\n",
    "# - `pd.to_datetime(df['Date'])` converts the 'Date' column to datetime format if it's not already.\n",
    "# - `df['Date'].dt.strftime('%A')` formats the dates in the 'Date' column to display the weekday name using the `%A` format specifier, which represents the full weekday name.\n",
    "# - The weekday names are stored in the new column 'Weekday', which is added to the DataFrame.\n",
    "# - The modified DataFrame with the 'Weekday' column is returned from the function."
   ]
  }
 ],
 "metadata": {
  "kernelspec": {
   "display_name": "Python 3 (ipykernel)",
   "language": "python",
   "name": "python3"
  },
  "language_info": {
   "codemirror_mode": {
    "name": "ipython",
    "version": 3
   },
   "file_extension": ".py",
   "mimetype": "text/x-python",
   "name": "python",
   "nbconvert_exporter": "python",
   "pygments_lexer": "ipython3",
   "version": "3.12.2"
  }
 },
 "nbformat": 4,
 "nbformat_minor": 5
}
