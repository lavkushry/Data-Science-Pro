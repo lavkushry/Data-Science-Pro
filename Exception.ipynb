{
 "cells": [
  {
   "cell_type": "markdown",
   "id": "746c21d7-80e1-456d-b2da-e3343cfabc8e",
   "metadata": {},
   "source": [
    "Q1. Explain why we have to use the Exception class while creating a Custom Exception.\n",
    "Ans:\n",
    "In Python, when creating a custom exception, you inherit from the base Exception class or one of its subclasses for the following reasons:\n",
    "\n",
    "Polymorphism: By inheriting from the Exception class, your custom exception becomes a type of Exception and can be caught and handled like other exceptions using try/except blocks.\n",
    "\n",
    "Inherited Methods: Your custom exception will inherit useful methods from the Exception class, such as __str__() for string representation, which can be further customized if needed.\n",
    "\n",
    "Semantic Correctness: It's a standard convention in Python and many other languages to have all exceptions inherit from Exception or its subclasses. This makes your code easier to understand by other developers.\n",
    "\n",
    "class CustomException(Exception):\n",
    "    pass\n",
    "    \n",
    "In this example, CustomException is a new class that inherits from Exception. You can raise CustomException in your code like any other exception.\n"
   ]
  },
  {
   "cell_type": "markdown",
   "id": "300ad82c-f7d9-45d6-b4d2-b896f6661af3",
   "metadata": {},
   "source": [
    "Q2. Write a python program to print Python Exception Hierarchy.\n",
    "\n",
    "Ans: To print the Python Exception Hierarchy, you can use the built-in inspect module to recursively explore the subclasses of a given class. Here's a Python program that prints the hierarchy of built-in exceptions:\n",
    "\n",
    "import inspect\n",
    "\n",
    "def print_exception_hierarchy(exception_type, indent=0):\n",
    "    print(' ' * indent + exception_type.__name__)\n",
    "    for subclass in exception_type.__subclasses__():\n",
    "        print_exception_hierarchy(subclass, indent + 4)\n",
    "\n",
    "print_exception_hierarchy(BaseException)\n",
    "\n",
    "This program starts with BaseException, which is the base class for all built-in exceptions in Python. It then recursively prints all subclasses, indented by 4 spaces for each level of the hierarchy."
   ]
  },
  {
   "cell_type": "markdown",
   "id": "84a052f7-98e7-40b0-ad6c-9727ddd2feb1",
   "metadata": {},
   "source": [
    "Q3. What errors are defined in the ArithmeticError class? Explain any two with an example.\n",
    "Ans:\n",
    "In Python, ArithmeticError is a built-in exception class that serves as the base class for those exceptions that get raised when numerical calculations fail. It has three built-in subclasses: OverflowError, ZeroDivisionError, and FloatingPointError.\n",
    "\n",
    "1.OverflowError: Raised when a calculation produces a result that is too large to be represented. This is usually encountered in mathematical operations like exponentiation.\n",
    "\n",
    "try:\n",
    "    import math\n",
    "    print(math.exp(1000))  # this will raise an OverflowError\n",
    "except OverflowError:\n",
    "    print(\"The number is too large.\")\n",
    "    \n",
    "2. ZeroDivisionError: Raised when you try to divide a number by zero. Division by zero is undefined in mathematics, so Python raises this error to indicate that you've done something that doesn't make sense.\n",
    "\n",
    "try:\n",
    "    print(1/0)  # this will raise a ZeroDivisionError\n",
    "except ZeroDivisionError:\n",
    "    print(\"You can't divide by zero.\")"
   ]
  },
  {
   "cell_type": "markdown",
   "id": "d39bbb4f-3b71-4bcb-bbdf-4c78213e97dc",
   "metadata": {},
   "source": [
    "Q4. Why LookupError class is used? Explain with an example KeyError and IndexError.\n",
    "Ans:\n",
    "In Python, LookupError is a built-in exception used as a base class for the exceptions that occur when a key or index used on a mapping or sequence is invalid: IndexError, KeyError, etc. It's used to catch and handle multiple types of lookup errors in a single except block.\n",
    "\n",
    "1. KeyError: This error is raised when a dictionary key is not found. If you try to access a key that does not exist in the dictionary, a KeyError will be raised.\n",
    "\n",
    "try:\n",
    "    dict = {'a': 1, 'b': 2}\n",
    "    print(dict['c'])  # 'c' does not exist in the dictionary\n",
    "except KeyError:\n",
    "    print(\"Key not found in dictionary.\")\n",
    "    \n",
    "2. IndexError: This error is raised when you try to access an index which is out of range in sequences like list, tuple, etc.\n",
    "\n",
    "try:\n",
    "    list = [1, 2, 3]\n",
    "    print(list[3])  # Index 3 does not exist in the list\n",
    "except IndexError:\n",
    "    print(\"Index out of range.\")\n",
    "    \n",
    "In both examples, the try/except block is used to catch and handle the error gracefully.\n"
   ]
  },
  {
   "cell_type": "markdown",
   "id": "e18b6749-9504-439c-a092-46f9f71bac3c",
   "metadata": {},
   "source": [
    "Q5. Explain ImportError. What is ModuleNotFoundError?\n",
    "\n",
    "Ans: In Python, ImportError is raised when an import statement fails to find the module definition or when a from ... import fails to find a name that is to be imported.\n",
    "\n",
    "Example:\n",
    "try:\n",
    "    import non_existent_module\n",
    "except ImportError:\n",
    "    print(\"Module not found.\")\n",
    "\n",
    "ModuleNotFoundError is a subclass of ImportError. It's raised by import when a module could not be located. It's also raised when None is found in sys.modules.\n",
    "\n",
    "try:\n",
    "    import non_existent_module\n",
    "except ModuleNotFoundError:\n",
    "    print(\"Module not found.\")\n",
    "    \n",
    "In both cases, the module non_existent_module does not exist, so trying to import it raises an error. The try/except block is used to catch and handle the error gracefully. The difference between ImportError and ModuleNotFoundError is mostly semantic - ModuleNotFoundError is more specific about the nature of the error."
   ]
  },
  {
   "cell_type": "markdown",
   "id": "b0db769e-196d-4a96-9395-87b12b533a01",
   "metadata": {},
   "source": [
    "Q6. List down some best practices for exception handling in python.\n",
    "\n",
    "Ans:\n",
    "Here are some best practices for exception handling in Python:\n",
    "\n",
    "Use Built-in Exceptions: Python's built-in exceptions are there for a reason. Use them whenever possible to make your code easier to understand.\n",
    "\n",
    "Be Specific with Exceptions: Catch specific exceptions you expect rather than using a bare except: clause. A bare except: clause will catch all exceptions, including those you might not be prepared to handle.\n",
    "\n",
    "Don't Suppress Exceptions: If you catch an exception, handle it. Don't just pass it silently unless you have a very good reason.\n",
    "\n",
    "Use finally for Cleanup: If you have code that must be executed regardless of whether an exception was raised, put it in the finally: clause.\n",
    "\n",
    "Use else for Code that Requires No Exception: Code that does not raise an exception should be placed in the else: clause.\n",
    "\n",
    "Don't Use Exceptions for Flow Control: Exceptions should be used for errors, not to control the normal flow of your program.\n",
    "\n",
    "Define Custom Exceptions: If your program has specific errors that it needs to handle, define custom exceptions. Make them descriptive and meaningful.\n",
    "\n",
    "Document Your Exceptions: If your function or method raises specific exceptions, mention them in your docstrings.\n",
    "\n",
    "Avoid Raising Generic Exceptions: Raise specific exceptions whenever possible. Raising a generic Exception gives less information to the person trying to debug the issue.\n",
    "\n",
    "Propagate Exceptions: If you catch an exception and can't handle it, it's usually better to re-raise it rather than suppressing it.\n"
   ]
  }
 ],
 "metadata": {
  "kernelspec": {
   "display_name": "Python 3 (ipykernel)",
   "language": "python",
   "name": "python3"
  },
  "language_info": {
   "codemirror_mode": {
    "name": "ipython",
    "version": 3
   },
   "file_extension": ".py",
   "mimetype": "text/x-python",
   "name": "python",
   "nbconvert_exporter": "python",
   "pygments_lexer": "ipython3",
   "version": "3.10.8"
  }
 },
 "nbformat": 4,
 "nbformat_minor": 5
}
